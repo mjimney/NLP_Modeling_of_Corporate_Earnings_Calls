{
 "cells": [
  {
   "cell_type": "markdown",
   "metadata": {},
   "source": [
    "# Earnings Call Modeling"
   ]
  },
  {
   "cell_type": "markdown",
   "metadata": {},
   "source": [
    "## Objectives  \n",
    "**1. Topic Modeling** - Use unsupervised learning to identify topics discussed on earnings calls.  The topics for questions and answers will be derived seperatly but have been found to share common themes.  \n",
    "**2. Stock Price Modeling** - Using the question and answer topics for each call, train a supervised learning model to predict stock movements following an earnings call.  \n",
    "**3. Tableau Dashboard Export** - Structure and generate the topic analysis for consumption by a Tableau dashboard for enhanced visualization and analysis."
   ]
  },
  {
   "cell_type": "markdown",
   "metadata": {},
   "source": [
    "<a id='home'></a>\n",
    "## Contents\n",
    "\n",
    "**Setup**  \n",
    "1. [Imports](#id)  \n",
    "2. [Data Loading](#2)  \n",
    "3. [Text Modeling Functions](#3)  \n",
    "\n",
    "**Objective 1:  Topic Modeling**  \n",
    "4. [Questions Only](#4)  \n",
    "5. [Answers Only](#5)  \n",
    "\n",
    "**Objective 2:  Stock Price Modeling**  \n",
    "6. [1 Month Stock Price Change](#6)  \n",
    "7. [1 Month Stock Volatility](#7)  \n",
    "\n",
    "**Objective 3:  Tableau Dashboard Export**  \n",
    "8. [Company Sectors by Topics](#8)  \n",
    "9. [Earning Call by Topics](#9)"
   ]
  },
  {
   "cell_type": "markdown",
   "metadata": {},
   "source": [
    "<a id='1'></a>\n",
    "\n",
    "---\n",
    "\n",
    "## Imports"
   ]
  },
  {
   "cell_type": "code",
   "execution_count": 1,
   "metadata": {},
   "outputs": [],
   "source": [
    "import requests\n",
    "import pickle\n",
    "import re\n",
    "import string\n",
    "import numpy as np\n",
    "import pandas as pd\n",
    "\n",
    "from sklearn.feature_extraction.text import TfidfVectorizer#, CountVectorizer\n",
    "from sklearn.decomposition import NMF\n",
    "\n",
    "from nltk.tokenize import word_tokenize\n",
    "from nltk.stem.lancaster import LancasterStemmer\n",
    "from nltk.stem import WordNetLemmatizer \n",
    "from nltk.corpus import stopwords\n",
    "\n",
    "# from gensim import models, matutils\n",
    "\n",
    "from sklearn.model_selection import train_test_split, cross_val_score, KFold\n",
    "from sklearn.metrics import f1_score, accuracy_score\n",
    "import seaborn as sns\n",
    "import matplotlib.pyplot as plt\n",
    "from sklearn.ensemble import RandomForestClassifier\n",
    "\n",
    "random_state = 2019"
   ]
  },
  {
   "cell_type": "code",
   "execution_count": 2,
   "metadata": {},
   "outputs": [],
   "source": [
    "# Assign output directory for Tableau data\n",
    "out_path = 'output/'"
   ]
  },
  {
   "cell_type": "markdown",
   "metadata": {},
   "source": [
    "<a id='2'></a>\n",
    "# Load Pickle Data"
   ]
  },
  {
   "cell_type": "code",
   "execution_count": 3,
   "metadata": {},
   "outputs": [],
   "source": [
    "with open('pickle_data/all_text_update.pkl', 'rb') as picklefile:\n",
    "    all_text = pickle.load(picklefile)"
   ]
  },
  {
   "cell_type": "code",
   "execution_count": 4,
   "metadata": {},
   "outputs": [],
   "source": [
    "with open('pickle_data/prices.pkl', 'rb') as picklefile: \n",
    "    price_df = pickle.load(picklefile)\n",
    "\n",
    "price_df.drop(price_df[price_df['call_id'] == '439.3'].index,inplace=True)"
   ]
  },
  {
   "cell_type": "markdown",
   "metadata": {},
   "source": [
    "<a id='3'></a>\n",
    "# Text Modeling Functions"
   ]
  },
  {
   "cell_type": "code",
   "execution_count": 5,
   "metadata": {},
   "outputs": [],
   "source": [
    "def doc_only_QA(documents):\n",
    "    '''\n",
    "    Filter all transcripts for only Q&A section and remove Operator\n",
    "    '''\n",
    "    text_ids = []\n",
    "    new_text = []\n",
    "    call_id = ''\n",
    "    \n",
    "    for d in documents:\n",
    "        if d[1] == 'Q and A' and d[2] != 'Operator':\n",
    "            if call_id == d[0]:\n",
    "                new_text[-1] += ' ' + d[3] \n",
    "            else:\n",
    "                call_id = d[0]\n",
    "                text_ids.append(call_id)\n",
    "                new_text.append(d[3])\n",
    "                \n",
    "    return text_ids, new_text\n",
    "\n",
    "\n",
    "def doc_only_Qs(documents):\n",
    "    '''\n",
    "    Filter all transcripts for only questions in Q&A and remove Operator\n",
    "    '''\n",
    "    text_ids = []\n",
    "    new_text = []\n",
    "    call_id = ''\n",
    "    \n",
    "    for d in documents:\n",
    "        if d[1] == 'Q and A' and d[2] != 'Operator' and d[4] == 'external':\n",
    "            if call_id == d[0]:\n",
    "                new_text[-1] += ' ' + d[3] \n",
    "            else:\n",
    "                call_id = d[0]\n",
    "                text_ids.append(call_id)\n",
    "                new_text.append(d[3])\n",
    "                \n",
    "    return text_ids, new_text\n",
    "\n",
    "\n",
    "def doc_only_As(documents):\n",
    "    '''\n",
    "    Filter all transcripts for only answers in Q&A and remove Operator\n",
    "    '''\n",
    "    text_ids = []\n",
    "    new_text = []\n",
    "    call_id = ''\n",
    "    \n",
    "    for d in documents:\n",
    "        if d[1] == 'Q and A' and d[2] != 'Operator' and d[4] == 'internal':\n",
    "            if call_id == d[0]:\n",
    "                new_text[-1] += ' ' + d[3] \n",
    "            else:\n",
    "                call_id = d[0]\n",
    "                text_ids.append(call_id)\n",
    "                new_text.append(d[3])\n",
    "                \n",
    "    return text_ids, new_text"
   ]
  },
  {
   "cell_type": "code",
   "execution_count": 6,
   "metadata": {},
   "outputs": [],
   "source": [
    "def clean_string(text):\n",
    "    clean_text = re.sub('[%s]' % re.escape(string.punctuation), ' ', text)\n",
    "\n",
    "    # All lowercase\n",
    "    clean_text = clean_text.lower()\n",
    "\n",
    "    # Remove q1 - q4 mentions\n",
    "    clean_text = re.sub('\\w*q\\d\\w*', ' ', clean_text)\n",
    "\n",
    "    # Remove numbers\n",
    "    clean_text = re.sub('\\w*\\d\\w*', ' ', clean_text)\n",
    "    \n",
    "    # Tokenize\n",
    "    clean_text = word_tokenize(clean_text)\n",
    "\n",
    "    ## Stemming\n",
    "    # tokenized = []\n",
    "    # stemmer = LancasterStemmer() \n",
    "    # tokenized.append([stemmer.stem(w) for w in clean_text])\n",
    "    \n",
    "    # Lemmatization\n",
    "    tokenized = []\n",
    "    lemmatizer = WordNetLemmatizer() \n",
    "    tokenized = [lemmatizer.lemmatize(w) for w in clean_text]\n",
    "    \n",
    "    return tokenized"
   ]
  },
  {
   "cell_type": "code",
   "execution_count": 7,
   "metadata": {},
   "outputs": [],
   "source": [
    "def display_topics(model, feature_names, no_top_words, topic_names=None):\n",
    "    for ix, topic in enumerate(model.components_):\n",
    "        if not topic_names or not topic_names[ix]:\n",
    "            print(\"\\nTopic \", ix)\n",
    "        else:\n",
    "            print(\"\\nTopic: '\",topic_names[ix],\"'\")\n",
    "        print(\", \".join([feature_names[i]\n",
    "                        for i in topic.argsort()[:-no_top_words - 1:-1]]))"
   ]
  },
  {
   "cell_type": "code",
   "execution_count": 8,
   "metadata": {},
   "outputs": [],
   "source": [
    "def nmf_and_output(vectorizer, docs, catagories, top_words=10):\n",
    "    doc_words = vectorizer.fit_transform(docs)\n",
    "    nmf_model = NMF(catagories)\n",
    "    doc_topic = nmf_model.fit_transform(doc_words)\n",
    "    display_topics(nmf_model, vectorizer.get_feature_names(), top_words)\n",
    "    return doc_topic"
   ]
  },
  {
   "cell_type": "code",
   "execution_count": 17,
   "metadata": {},
   "outputs": [],
   "source": [
    "def create_topic_df(topic_maps,ids,prefix,pct=False):\n",
    "    cols = [prefix + '_topic_%.i' % (i+1) for i in range(topic_maps.shape[1])]\n",
    "    df = pd.DataFrame(topic_maps,columns = cols)\n",
    "    if pct == True:\n",
    "        df = df.div(df.sum(axis=1), axis=0)\n",
    "    df['call_id'] = ids\n",
    "    \n",
    "    return df, cols"
   ]
  },
  {
   "cell_type": "markdown",
   "metadata": {},
   "source": [
    "<a id='4'></a>\n",
    "# Topic Model:  Questions Only\n",
    "TF-IDF + NMF"
   ]
  },
  {
   "cell_type": "code",
   "execution_count": 9,
   "metadata": {},
   "outputs": [
    {
     "name": "stdout",
     "output_type": "stream",
     "text": [
      "IDs:  9746\n",
      "Text: 9746\n"
     ]
    }
   ],
   "source": [
    "# Create list of text and IDs for only questions\n",
    "ids_Q_only, text_Q_only = doc_only_Qs(all_text)\n",
    "\n",
    "# Limit text to only what we have prices for\n",
    "text_Q_only = [j for i,j in zip(ids_Q_only,text_Q_only) if price_df['call_id'].eq(i).sum() == True]\n",
    "ids_Q_only = [i for i in ids_Q_only if price_df['call_id'].eq(i).sum() == True]\n",
    "\n",
    "print ('IDs: ',len(ids_Q_only))\n",
    "print ('Text:',len(text_Q_only))"
   ]
  },
  {
   "cell_type": "code",
   "execution_count": 10,
   "metadata": {},
   "outputs": [],
   "source": [
    "# Define stop words - Questions\n",
    "q_words = ['growth','thanks','okay','kind','guy','nim','morning','yes','got','gotcha','luck',\n",
    "           'please','bit','color','helpful','talk','taking','hey','afternoon','ok','people',\n",
    "           'guess','right','last','etc','really','well','get','yeah','say','thing','sort',\n",
    "           'wanted','know','follow','curious','wondering','seeing','thinking','hi','give',\n",
    "           'would','great','appreciate','motley','fool','analystokay','transcript','officeryeah']\n",
    "\n",
    "q_word_fragments = ['doe','ha','wa','r','k','fy','na','sg','gon']\n",
    "\n",
    "q_stop_words = list(stopwords.words('english')) + q_words + q_word_fragments"
   ]
  },
  {
   "cell_type": "code",
   "execution_count": 11,
   "metadata": {},
   "outputs": [
    {
     "name": "stdout",
     "output_type": "stream",
     "text": [
      "Questions Only\n",
      "\n",
      "Topic  0\n",
      "business, revenue, client, little, organic, acquisition, service, segment, side, term\n",
      "\n",
      "Topic  1\n",
      "loan, deposit, expense, credit, rate, bank, yield, mortgage, portfolio, fed\n",
      "\n",
      "Topic  2\n",
      "patient, study, data, trial, phase, dose, fda, clinical, therapy, program\n",
      "\n",
      "Topic  3\n",
      "lease, rent, tenant, asset, property, leasing, occupancy, noi, development, disposition\n",
      "\n",
      "Topic  4\n",
      "store, comp, traffic, sale, delivery, category, new, opening, best, merchandise\n",
      "\n",
      "Topic  5\n",
      "product, customer, new, sale, market, term, congrats, force, little, opportunity\n",
      "\n",
      "Topic  6\n",
      "rig, oil, production, cash, flow, free, basin, delaware, drilling, permian\n",
      "\n",
      "Topic  7\n",
      "price, volume, pricing, cost, market, increase, little, demand, inflation, raw\n",
      "\n",
      "Topic  8\n",
      "loss, ratio, auto, reinsurance, cat, commercial, premium, reserve, rate, book\n",
      "\n",
      "Topic  9\n",
      "million, cash, ebitda, flow, free, guidance, cost, number, capex, revenue\n",
      "\n",
      "Topic  10\n",
      "chief, executive, president, vice, financial, officer, chairman, research, article, bank\n",
      "\n",
      "Topic  11\n",
      "project, capacity, contract, pipeline, gas, barrel, crude, lng, backlog, pipe\n",
      "\n",
      "Topic  12\n",
      "china, inventory, customer, business, market, industrial, tariff, demand, auto, order\n",
      "\n",
      "Topic  13\n",
      "rate, tax, little, case, guidance, plan, term, utility, mean, earnings\n",
      "\n",
      "Topic  14\n",
      "content, ad, video, advertising, mobile, game, user, network, tv, wireless\n",
      "\n",
      "Topic  15\n",
      "fleet, vessel, scrubber, charter, ship, fuel, market, car, time, spot\n",
      "\n",
      "Topic  16\n",
      "asset, portfolio, capital, market, investment, dividend, fee, equity, fund, credit\n",
      "\n",
      "Topic  17\n",
      "margin, gross, basis, mix, operating, fiscal, point, guidance, cost, improvement\n",
      "\n",
      "Topic  18\n",
      "cloud, customer, subscription, deal, enterprise, revenue, license, service, data, booking\n",
      "\n",
      "Topic  19\n",
      "brand, category, hotel, marketing, business, channel, consumer, inventory, retailer, innovation\n",
      "\n",
      "Topic  20\n",
      "half, second, back, first, guidance, little, full, confidence, comp, expect\n",
      "\n",
      "Topic  21\n",
      "foreign, language, management, user, also, second, car, game, dealer, first\n",
      "\n",
      "Topic  22\n",
      "america, north, europe, market, brazil, international, region, american, china, asia\n"
     ]
    }
   ],
   "source": [
    "catagories = 23\n",
    "\n",
    "# Setup TFIDF Vectorizer\n",
    "tfidf_q = TfidfVectorizer(stop_words = q_stop_words,tokenizer=clean_string,max_df=0.9,min_df=5)\n",
    "\n",
    "print ('Questions Only')\n",
    "questions_doc_topics = nmf_and_output(vectorizer=tfidf_q,docs=text_Q_only,catagories=catagories,top_words=10)\n"
   ]
  },
  {
   "cell_type": "code",
   "execution_count": 18,
   "metadata": {},
   "outputs": [],
   "source": [
    "# Create Questions Topic Maps\n",
    "q_topics, q_cols = create_topic_df(questions_doc_topics, ids_Q_only, prefix='q', pct=True)\n",
    "price_df = price_df.merge(q_topics,on='call_id',how='inner')\n",
    "q_topics = q_topics.merge(price_df[['call_id','sector']],on='call_id',how='inner')\n",
    "q_topics = q_topics.groupby('sector').agg('mean')"
   ]
  },
  {
   "cell_type": "markdown",
   "metadata": {},
   "source": [
    "<a id='5'></a>\n",
    "# Topic Model:  Answers Only\n",
    "TF-IDF + NMF"
   ]
  },
  {
   "cell_type": "code",
   "execution_count": 12,
   "metadata": {},
   "outputs": [
    {
     "name": "stdout",
     "output_type": "stream",
     "text": [
      "IDs:  9708\n",
      "Text: 9708\n"
     ]
    }
   ],
   "source": [
    "# Create list of text and IDs for only answers\n",
    "ids_A_only, text_A_only = doc_only_As(all_text)\n",
    "\n",
    "# Limit text to only dates we have prices for\n",
    "text_A_only = [j for i,j in zip(ids_A_only,text_A_only) if price_df['call_id'].eq(i).sum() == True]\n",
    "ids_A_only = [i for i in ids_A_only if price_df['call_id'].eq(i).sum() == True]\n",
    "\n",
    "print ('IDs: ',len(ids_A_only))\n",
    "print ('Text:',len(text_A_only))"
   ]
  },
  {
   "cell_type": "code",
   "execution_count": 13,
   "metadata": {},
   "outputs": [],
   "source": [
    "# Define stop words - Answers\n",
    "a_words = ['thank','thanks','morning','thing','kind','like','mean','got','know','bit','yes',\n",
    "           'people', 'want', 'say', 'go', 'sort', 'way', 'make', 'pretty','yeah','hey']\n",
    "\n",
    "a_word_fragments = ['doe','ha','wa','r','k','fy','na','cd','gon']\n",
    "\n",
    "a_stop_words = list(stopwords.words('english')) + a_words + a_word_fragments"
   ]
  },
  {
   "cell_type": "code",
   "execution_count": 14,
   "metadata": {
    "scrolled": false
   },
   "outputs": [
    {
     "name": "stdout",
     "output_type": "stream",
     "text": [
      "Answers Only\n",
      "\n",
      "Topic  0\n",
      "growth, margin, half, continue, expect, revenue, term, point, basis, gross\n",
      "\n",
      "Topic  1\n",
      "loan, deposit, bank, rate, credit, mortgage, portfolio, yield, growth, balance\n",
      "\n",
      "Topic  2\n",
      "patient, study, data, trial, drug, clinical, disease, therapy, dose, phase\n",
      "\n",
      "Topic  3\n",
      "project, gas, backlog, contract, plant, work, lng, capacity, barrel, pipeline\n",
      "\n",
      "Topic  4\n",
      "store, comp, traffic, inventory, sale, assortment, customer, online, margin, merchandise\n",
      "\n",
      "Topic  5\n",
      "tenant, rent, lease, property, asset, building, leasing, occupancy, square, foot\n",
      "\n",
      "Topic  6\n",
      "client, revenue, service, digital, technology, capability, new, firm, platform, market\n",
      "\n",
      "Topic  7\n",
      "rig, drilling, oil, basin, gas, acreage, production, completion, capital, cash\n",
      "\n",
      "Topic  8\n",
      "content, user, video, game, revenue, question, platform, ad, advertising, advertiser\n",
      "\n",
      "Topic  9\n",
      "little, lot, market, probably, still, price, last, number, better, community\n",
      "\n",
      "Topic  10\n",
      "loss, rate, ratio, claim, reinsurance, cat, auto, book, trend, premium\n",
      "\n",
      "Topic  11\n",
      "china, market, price, inventory, demand, tariff, volume, europe, cost, america\n",
      "\n",
      "Topic  12\n",
      "million, cash, cost, ebitda, revenue, flow, number, guidance, debt, expect\n",
      "\n",
      "Topic  13\n",
      "cloud, enterprise, security, software, data, subscription, deal, solution, revenue, service\n",
      "\n",
      "Topic  14\n",
      "product, sale, market, new, launch, channel, device, gross, lot, rep\n",
      "\n",
      "Topic  15\n",
      "business, growth, company, acquisition, segment, margin, lot, team, service, side\n",
      "\n",
      "Topic  16\n",
      "brand, consumer, category, innovation, marketing, retailer, channel, restaurant, digital, distribution\n",
      "\n",
      "Topic  17\n",
      "hotel, revpar, property, marriott, room, brand, renovation, asset, market, group\n",
      "\n",
      "Topic  18\n",
      "asset, capital, market, equity, term, investment, portfolio, fund, opportunity, return\n",
      "\n",
      "Topic  19\n",
      "customer, service, technology, continue, system, solution, term, opportunity, network, capability\n"
     ]
    }
   ],
   "source": [
    "catagories = 20\n",
    "\n",
    "# Setup TFIDF Vectorizer\n",
    "tfidf_a = TfidfVectorizer(stop_words = a_stop_words,tokenizer=clean_string,max_df=0.9,min_df=5)\n",
    "\n",
    "print ('Answers Only')\n",
    "answers_doc_topics = nmf_and_output(vectorizer=tfidf_a,docs=text_A_only,catagories=catagories,top_words=10)"
   ]
  },
  {
   "cell_type": "code",
   "execution_count": 19,
   "metadata": {},
   "outputs": [],
   "source": [
    "# Create Answers Topic Maps\n",
    "a_topics, a_cols = create_topic_df(answers_doc_topics, ids_A_only, prefix='a', pct=True)\n",
    "price_df = price_df.merge(a_topics,on='call_id',how='inner')\n",
    "a_topics = a_topics.merge(price_df[['call_id','sector']],on='call_id',how='inner')\n",
    "a_topics = a_topics.groupby('sector').agg('mean')"
   ]
  },
  {
   "cell_type": "markdown",
   "metadata": {},
   "source": [
    "<a id='6'></a>\n",
    "# Predictive Model:  1 Month Stock Price Change\n",
    "Random Forest"
   ]
  },
  {
   "cell_type": "code",
   "execution_count": 33,
   "metadata": {},
   "outputs": [
    {
     "name": "stdout",
     "output_type": "stream",
     "text": [
      "1 Month Stock Price Change:\n",
      "Price Decrease:  0.4736\n",
      "Price Increase:  0.5264\n",
      "-----------------------------\n",
      "Observation Sizes:\n",
      "Train Observations: 2058\n",
      "Validation Observations: 686\n",
      "Holdout Observations: 687\n"
     ]
    }
   ],
   "source": [
    "model_df = price_df.dropna()\n",
    "\n",
    "# X = model_df[q_cols]\n",
    "# X = model_df[a_cols]\n",
    "# X = model_df[q_cols + a_cols]\n",
    "X = model_df[q_cols + a_cols + ['sector']]\n",
    "X = pd.get_dummies(X)\n",
    "y = (model_df['p2_delta'] < model_df['bench_p2_delta_adj']) * 1\n",
    "\n",
    "\n",
    "X_train, X_holdout, y_train, y_holdout = train_test_split(X, y, test_size=0.2, random_state=random_state)\n",
    "X_train, X_val, y_train, y_val = train_test_split(X_train, y_train, test_size=0.25, random_state=random_state)\n",
    "\n",
    "print ('1 Month Stock Price Change:')\n",
    "print ('Price Decrease:  %.4f' % y.value_counts(normalize=True)[0])\n",
    "print ('Price Increase:  %.4f' % y.value_counts(normalize=True)[1])\n",
    "print ('-----------------------------')\n",
    "print ('Observation Sizes:')\n",
    "print ('Train Observations: {}\\nValidation Observations: {}\\nHoldout Observations: {}'.format(X_train.shape[0], X_val.shape[0], X_holdout.shape[0]))"
   ]
  },
  {
   "cell_type": "code",
   "execution_count": 21,
   "metadata": {},
   "outputs": [
    {
     "data": {
      "image/png": "[encoded data removed]",
      "text/plain": [
       "<Figure size 1008x432 with 2 Axes>"
      ]
     },
     "metadata": {
      "needs_background": "light"
     },
     "output_type": "display_data"
    }
   ],
   "source": [
    "max_feature_range = np.arange(.1,1.05,.05)\n",
    "kf = KFold(n_splits=5, shuffle=True, random_state = random_state)\n",
    "\n",
    "f1_scores_list = []\n",
    "acc_scores_list = []\n",
    "\n",
    "for i in max_feature_range:\n",
    "    rf = RandomForestClassifier(n_estimators=100,max_features=i,random_state=random_state)\n",
    "    f1_scores_list.append(np.mean(cross_val_score(rf, X_train, y_train, cv=kf, scoring='f1')))\n",
    "    acc_scores_list.append(np.mean(cross_val_score(rf, X_train, y_train, cv=kf, scoring='accuracy')))\n",
    "\n",
    "best_f1 = np.max(f1_scores_list) \n",
    "best_f1_features = max_feature_range[np.argmax(f1_scores_list)]\n",
    "    \n",
    "best_acc = np.max(acc_scores_list) \n",
    "best_acc_features = max_feature_range[np.argmax(acc_scores_list)]  \n",
    "\n",
    "plt.figure(figsize=(14,6))\n",
    "\n",
    "plt.subplot(1, 2, 1)\n",
    "sns.lineplot(x=max_feature_range,y=f1_scores_list)\n",
    "plt.title('F1 Score vs Max Features\\nModel = Random Forest\\nBest F1 score %.4f at Max Features = %.2f' %\n",
    "          (best_f1, best_f1_features))\n",
    "plt.xlabel('% of Features per Tree')\n",
    "plt.ylabel('F1 score')\n",
    "\n",
    "\n",
    "plt.subplot(1, 2, 2)\n",
    "sns.lineplot(x=max_feature_range,y=acc_scores_list)\n",
    "plt.title('Accuracy Score vs Max Features\\nModel = Random Forest\\nBest Accuracy score %.4f at Max Features = %.2f' %\n",
    "          (best_acc, best_acc_features))\n",
    "plt.xlabel('% of Features per Tree')\n",
    "plt.ylabel('F1 score');"
   ]
  },
  {
   "cell_type": "code",
   "execution_count": 31,
   "metadata": {},
   "outputs": [
    {
     "name": "stdout",
     "output_type": "stream",
     "text": [
      "Cross Validation Scores\n",
      "F1:  0.6019\n",
      "Accuracy:  0.5821\n"
     ]
    }
   ],
   "source": [
    "rf = RandomForestClassifier(n_estimators=100,max_features=.55,random_state=random_state)\n",
    "kf = KFold(n_splits=5, shuffle=True, random_state = random_state)\n",
    "\n",
    "print ('Cross Validation Scores')\n",
    "print('F1:  %.4f' % np.mean(cross_val_score(rf, X_train, y_train, cv=kf, scoring='f1')))\n",
    "print('Accuracy:  %.4f' % np.mean(cross_val_score(rf, X_train, y_train, cv=kf, scoring='accuracy')))"
   ]
  },
  {
   "cell_type": "code",
   "execution_count": 32,
   "metadata": {},
   "outputs": [
    {
     "name": "stdout",
     "output_type": "stream",
     "text": [
      "Out of Sample Scores (Validation Data)\n",
      "F1:  0.5580\n",
      "Accuracy:  0.5335\n"
     ]
    }
   ],
   "source": [
    "rf.fit(X_train, y_train)\n",
    "y_pred = rf.predict(X_val)\n",
    "\n",
    "print ('Out of Sample Scores (Validation Data)')\n",
    "print('F1:  %.4f' % f1_score(y_val, y_pred))\n",
    "print('Accuracy:  %.4f' % accuracy_score(y_val, y_pred))"
   ]
  },
  {
   "cell_type": "code",
   "execution_count": 34,
   "metadata": {},
   "outputs": [
    {
     "name": "stdout",
     "output_type": "stream",
     "text": [
      "Holdout Data - Save for final analysis\n",
      "F1:  0.5997\n",
      "Accuracy:  0.5648\n"
     ]
    }
   ],
   "source": [
    "y_pred = rf.predict(X_holdout)\n",
    "\n",
    "print ('Holdout Data - Save for final analysis')\n",
    "print('F1:  %.4f' % f1_score(y_holdout, y_pred))\n",
    "print('Accuracy:  %.4f' % accuracy_score(y_holdout, y_pred))"
   ]
  },
  {
   "cell_type": "markdown",
   "metadata": {},
   "source": [
    "<a id='7'></a>\n",
    "# Predictive Models:  1 Month Stock Volatility"
   ]
  },
  {
   "cell_type": "code",
   "execution_count": 35,
   "metadata": {},
   "outputs": [
    {
     "name": "stdout",
     "output_type": "stream",
     "text": [
      "1 Month Stock Price Change:\n",
      "Price Change > 4%:  0.5838\n",
      "Price Change < 4%:  0.4162\n",
      "-----------------------------\n",
      "Observation Sizes:\n",
      "Train Observations: 5800\n",
      "Validation Observations: 1934\n",
      "Holdout Observations: 1934\n"
     ]
    }
   ],
   "source": [
    "temp_df = price_df.copy()\n",
    "# less_five = temp_df[abs(temp_df['p1_delta']) < 5].index\n",
    "# temp_df = temp_df.drop(less_five)\n",
    "\n",
    "\n",
    "X = temp_df[q_cols + a_cols + ['sector']]\n",
    "X = pd.get_dummies(X)\n",
    "y = (abs(temp_df['p1_delta']) > 4) * 1\n",
    "random_state = 2019\n",
    "\n",
    "# df = pd.get_dummies(df)\n",
    "\n",
    "X_train, X_holdout, y_train, y_holdout = train_test_split(X, y, test_size=0.2, random_state=random_state)\n",
    "X_train, X_val, y_train, y_val = train_test_split(X_train, y_train, test_size=0.25, random_state=random_state)\n",
    "\n",
    "\n",
    "print ('1 Month Stock Price Change:')\n",
    "print ('Price Change > 4%:  {:.4f}'.format(y.value_counts(normalize=True)[0]))\n",
    "print ('Price Change < 4%:  {:.4f}'.format(y.value_counts(normalize=True)[1]))\n",
    "print ('-----------------------------')\n",
    "print ('Observation Sizes:')\n",
    "print ('Train Observations: {}\\nValidation Observations: {}\\nHoldout Observations: {}'.format(X_train.shape[0], X_val.shape[0], X_holdout.shape[0]))"
   ]
  },
  {
   "cell_type": "code",
   "execution_count": 25,
   "metadata": {},
   "outputs": [
    {
     "data": {
      "image/png": "[encoded data removed]",
      "text/plain": [
       "<Figure size 1008x432 with 2 Axes>"
      ]
     },
     "metadata": {
      "needs_background": "light"
     },
     "output_type": "display_data"
    }
   ],
   "source": [
    "max_feature_range = np.arange(.1,1.05,.05)\n",
    "kf = KFold(n_splits=5, shuffle=True, random_state = random_state)\n",
    "\n",
    "f1_scores_list = []\n",
    "acc_scores_list = []\n",
    "\n",
    "for i in max_feature_range:\n",
    "    rf = RandomForestClassifier(n_estimators=100,max_features=i,random_state=random_state)\n",
    "    f1_scores_list.append(np.mean(cross_val_score(rf, X_train, y_train, cv=kf, scoring='f1')))\n",
    "    acc_scores_list.append(np.mean(cross_val_score(rf, X_train, y_train, cv=kf, scoring='accuracy')))\n",
    "\n",
    "best_f1 = np.max(f1_scores_list) \n",
    "best_f1_features = max_feature_range[np.argmax(f1_scores_list)]\n",
    "    \n",
    "best_acc = np.max(acc_scores_list) \n",
    "best_acc_features = max_feature_range[np.argmax(acc_scores_list)]  \n",
    "\n",
    "plt.figure(figsize=(14,6))\n",
    "\n",
    "plt.subplot(1, 2, 1)\n",
    "sns.lineplot(x=max_feature_range,y=f1_scores_list)\n",
    "plt.title('F1 Score vs Max Features\\nModel = Random Forest\\nBest F1 score %.4f at Max Features = %.2f' %\n",
    "          (best_f1, best_f1_features))\n",
    "plt.xlabel('% of Features per Tree')\n",
    "plt.ylabel('F1 score')\n",
    "\n",
    "\n",
    "plt.subplot(1, 2, 2)\n",
    "sns.lineplot(x=max_feature_range,y=acc_scores_list)\n",
    "plt.title('Accuracy Score vs Max Features\\nModel = Random Forest\\nBest Accuracy score %.4f at Max Features = %.2f' %\n",
    "          (best_acc, best_acc_features))\n",
    "plt.xlabel('% of Features per Tree')\n",
    "plt.ylabel('F1 score');"
   ]
  },
  {
   "cell_type": "code",
   "execution_count": 36,
   "metadata": {},
   "outputs": [
    {
     "name": "stdout",
     "output_type": "stream",
     "text": [
      "Cross Validation Scores\n",
      "F1:  0.5112\n",
      "Accuracy:  0.6438\n"
     ]
    }
   ],
   "source": [
    "rf = RandomForestClassifier(n_estimators=100,max_features=.95,random_state=random_state)\n",
    "kf = KFold(n_splits=5, shuffle=True, random_state = random_state)\n",
    "\n",
    "print ('Cross Validation Scores')\n",
    "print('F1:  %.4f' % np.mean(cross_val_score(rf, X_train, y_train, cv=kf, scoring='f1')))\n",
    "print('Accuracy:  %.4f' % np.mean(cross_val_score(rf, X_train, y_train, cv=kf, scoring='accuracy')))"
   ]
  },
  {
   "cell_type": "code",
   "execution_count": 37,
   "metadata": {},
   "outputs": [
    {
     "name": "stdout",
     "output_type": "stream",
     "text": [
      "Out of Sample Scores (Validation Data)\n",
      "F1:  0.5028\n",
      "Accuracy:  0.6360\n"
     ]
    }
   ],
   "source": [
    "rf.fit(X_train, y_train)\n",
    "y_pred = rf.predict(X_val)\n",
    "\n",
    "print ('Out of Sample Scores (Validation Data)')\n",
    "print('F1:  %.4f' % f1_score(y_val, y_pred))\n",
    "print('Accuracy:  %.4f' % accuracy_score(y_val, y_pred))"
   ]
  },
  {
   "cell_type": "code",
   "execution_count": 38,
   "metadata": {},
   "outputs": [
    {
     "name": "stdout",
     "output_type": "stream",
     "text": [
      "Holdout Data - Save for final analysis\n",
      "F1:  0.5299\n",
      "Accuracy:  0.6422\n"
     ]
    }
   ],
   "source": [
    "y_pred = rf.predict(X_holdout)\n",
    "\n",
    "print ('Holdout Data - Save for final analysis')\n",
    "print('F1:  %.4f' % f1_score(y_holdout, y_pred))\n",
    "print('Accuracy:  %.4f' % accuracy_score(y_holdout, y_pred))"
   ]
  },
  {
   "cell_type": "markdown",
   "metadata": {},
   "source": [
    "<a id='8'></a>\n",
    "# Tableau Data:  Company Sectors by Topics"
   ]
  },
  {
   "cell_type": "code",
   "execution_count": 39,
   "metadata": {},
   "outputs": [],
   "source": [
    "# Output files for Tableau\n",
    "q_topics.to_csv(out_path+'question_topics.csv')\n",
    "a_topics.to_csv(out_path+'answers_topics.csv')"
   ]
  },
  {
   "cell_type": "markdown",
   "metadata": {},
   "source": [
    "<a id='9'></a>\n",
    "# Tableau Data:  Earning Call by Topics"
   ]
  },
  {
   "cell_type": "code",
   "execution_count": 40,
   "metadata": {},
   "outputs": [],
   "source": [
    "price_df['p1_ret'] = price_df['p1_delta'] - price_df['bench_p1_delta_adj']\n",
    "tableau_df_q = price_df[['call_id','sector','p1_ret']+q_cols].copy()\n",
    "tableau_df_a = price_df[['call_id','sector','p1_ret']+a_cols].copy()"
   ]
  },
  {
   "cell_type": "code",
   "execution_count": 41,
   "metadata": {},
   "outputs": [],
   "source": [
    "# Output files for Tableau\n",
    "tableau_df_q.to_csv(out_path+'questions_calls.csv')\n",
    "tableau_df_a.to_csv(out_path+'answers_calls.csv')"
   ]
  },
  {
   "cell_type": "code",
   "execution_count": null,
   "metadata": {},
   "outputs": [],
   "source": []
  }
 ],
 "metadata": {
  "kernelspec": {
   "display_name": "Python 3",
   "language": "python",
   "name": "python3"
  },
  "language_info": {
   "codemirror_mode": {
    "name": "ipython",
    "version": 3
   },
   "file_extension": ".py",
   "mimetype": "text/x-python",
   "name": "python",
   "nbconvert_exporter": "python",
   "pygments_lexer": "ipython3",
   "version": "3.7.0"
  },
  "varInspector": {
   "cols": {
    "lenName": 16,
    "lenType": 16,
    "lenVar": 40
   },
   "kernels_config": {
    "python": {
     "delete_cmd_postfix": "",
     "delete_cmd_prefix": "del ",
     "library": "var_list.py",
     "varRefreshCmd": "print(var_dic_list())"
    },
    "r": {
     "delete_cmd_postfix": ") ",
     "delete_cmd_prefix": "rm(",
     "library": "var_list.r",
     "varRefreshCmd": "cat(var_dic_list()) "
    }
   },
   "position": {
    "height": "308px",
    "left": "1070px",
    "right": "20px",
    "top": "119px",
    "width": "335px"
   },
   "types_to_exclude": [
    "module",
    "function",
    "builtin_function_or_method",
    "instance",
    "_Feature"
   ],
   "window_display": false
  }
 },
 "nbformat": 4,
 "nbformat_minor": 2
}
